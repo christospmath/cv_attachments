{
  "nbformat": 4,
  "nbformat_minor": 0,
  "metadata": {
    "colab": {
      "name": "modified_working_NTKspectrum_frozen.ipynb",
      "provenance": [],
      "collapsed_sections": [],
      "authorship_tag": "ABX9TyOMCJMN5D1geMEtLrccv8xZ",
      "include_colab_link": true
    },
    "kernelspec": {
      "name": "python3",
      "display_name": "Python 3"
    },
    "language_info": {
      "name": "python"
    }
  },
  "cells": [
    {
      "cell_type": "markdown",
      "metadata": {
        "id": "view-in-github",
        "colab_type": "text"
      },
      "source": [
        "<a href=\"https://colab.research.google.com/github/christospmath/Blog-/blob/main/modified_working_NTKspectrum_frozen.ipynb\" target=\"_parent\"><img src=\"https://colab.research.google.com/assets/colab-badge.svg\" alt=\"Open In Colab\"/></a>"
      ]
    },
    {
      "cell_type": "code",
      "metadata": {
        "id": "nAgz_2WHuW_x"
      },
      "source": [
        "!python /content/code/simulate_NN.py"
      ],
      "execution_count": 53,
      "outputs": []
    },
    {
      "cell_type": "code",
      "metadata": {
        "colab": {
          "base_uri": "https://localhost:8080/"
        },
        "id": "jvsxEp3gu4iS",
        "outputId": "85746291-541f-43db-dd1a-88faf7bc9199"
      },
      "source": [
        "!python /content/code/training/train.py"
      ],
      "execution_count": 54,
      "outputs": [
        {
          "output_type": "stream",
          "text": [
            "2021-08-12 12:18:21.160679: I tensorflow/stream_executor/platform/default/dso_loader.cc:53] Successfully opened dynamic library libcudart.so.11.0\n",
            "2021-08-12 12:18:23.311898: I tensorflow/stream_executor/platform/default/dso_loader.cc:53] Successfully opened dynamic library libcuda.so.1\n",
            "2021-08-12 12:18:23.324731: E tensorflow/stream_executor/cuda/cuda_driver.cc:328] failed call to cuInit: CUDA_ERROR_NO_DEVICE: no CUDA-capable device is detected\n",
            "2021-08-12 12:18:23.324793: I tensorflow/stream_executor/cuda/cuda_diagnostics.cc:156] kernel driver does not appear to be running on this host (642184563bc9): /proc/driver/nvidia/version does not exist\n",
            "Model: \"model\"\n",
            "_________________________________________________________________\n",
            "Layer (type)                 Output Shape              Param #   \n",
            "=================================================================\n",
            "input_1 (InputLayer)         [(None, 400)]             0         \n",
            "_________________________________________________________________\n",
            "dense (Dense)                (None, 400)               160000    \n",
            "_________________________________________________________________\n",
            "lambda (Lambda)              (None, 400)               0         \n",
            "_________________________________________________________________\n",
            "dense_1 (Dense)              (None, 800)               320000    \n",
            "_________________________________________________________________\n",
            "lambda_1 (Lambda)            (None, 800)               0         \n",
            "_________________________________________________________________\n",
            "dense_2 (Dense)              (None, 400)               320000    \n",
            "_________________________________________________________________\n",
            "lambda_2 (Lambda)            (None, 400)               0         \n",
            "_________________________________________________________________\n",
            "dense_3 (Dense)              (None, 1)                 400       \n",
            "=================================================================\n",
            "Total params: 800,400\n",
            "Trainable params: 800,400\n",
            "Non-trainable params: 0\n",
            "_________________________________________________________________\n",
            "2021-08-12 12:18:23.937605: I tensorflow/compiler/mlir/mlir_graph_optimization_pass.cc:176] None of the MLIR Optimization Passes are enabled (registered 2)\n",
            "2021-08-12 12:18:23.938224: I tensorflow/core/platform/profile_utils/cpu_utils.cc:114] CPU Frequency: 2199995000 Hz\n",
            "Prediction R^2: [0.97984104]\n",
            "Training loss: 0.0029661180451512337\n"
          ],
          "name": "stdout"
        }
      ]
    },
    {
      "cell_type": "code",
      "metadata": {
        "id": "aEJehooiWAM8"
      },
      "source": [
        "from google.colab import drive\n",
        "drive.mount('/content/drive')"
      ],
      "execution_count": null,
      "outputs": []
    },
    {
      "cell_type": "code",
      "metadata": {
        "id": "Q8urf7sF2ybl"
      },
      "source": [
        "!python /content/code/predict_spectrum.py"
      ],
      "execution_count": 55,
      "outputs": []
    },
    {
      "cell_type": "code",
      "metadata": {
        "colab": {
          "base_uri": "https://localhost:8080/"
        },
        "id": "3G38ZecX1BYD",
        "outputId": "79ec7177-32d4-4719-9df2-e91fa3862f63"
      },
      "source": [
        "!python /content/code/trained.py"
      ],
      "execution_count": 56,
      "outputs": [
        {
          "output_type": "stream",
          "text": [
            "Computing NTK prediction\n",
            "Traceback (most recent call last):\n",
            "  File \"/content/code/trained.py\", line 48, in <module>\n",
            "    KNTK = compute_NTK(Ws[-1],Xfin,d)\n",
            "  File \"/content/code/simulate_NN.py\", line 65, in compute_NTK\n",
            "    Ds.append(dsigma(np.dot(Ws[l],Xs[l])))\n",
            "  File \"<__array_function__ internals>\", line 6, in dot\n",
            "ValueError: shapes (400,800) and (400,1000) not aligned: 800 (dim 1) != 400 (dim 0)\n"
          ],
          "name": "stdout"
        }
      ]
    },
    {
      "cell_type": "code",
      "metadata": {
        "id": "SBODim87OMay"
      },
      "source": [
        "import sys\n",
        "from PIL import Image\n",
        "\n",
        "images = [Image.open(x) for x in ['/content/trained_NTK25.png', '/content/trained_NTK50.png', '/content/trained_NTK75.png', '/content/trained_NTK100.png']]\n",
        "widths, heights = zip(*(i.size for i in images))\n",
        "\n",
        "total_width = sum(widths)\n",
        "max_height = max(heights)\n",
        "\n",
        "new_im = Image.new('RGB', (total_width, max_height))\n",
        "\n",
        "x_offset = 0\n",
        "for im in images:\n",
        "  new_im.paste(im, (x_offset,0))\n",
        "  x_offset += im.size[0]\n",
        "\n",
        "new_im.save('test.jpg')"
      ],
      "execution_count": 47,
      "outputs": []
    },
    {
      "cell_type": "code",
      "metadata": {
        "colab": {
          "base_uri": "https://localhost:8080/",
          "height": 35
        },
        "id": "tNnDr8wpWHJN",
        "outputId": "4653e6a3-e404-4351-f42a-1826337f1ae2"
      },
      "source": [
        "from google.colab import files\n",
        "files.download(\"/content/code\")"
      ],
      "execution_count": 58,
      "outputs": [
        {
          "output_type": "display_data",
          "data": {
            "application/javascript": [
              "\n",
              "    async function download(id, filename, size) {\n",
              "      if (!google.colab.kernel.accessAllowed) {\n",
              "        return;\n",
              "      }\n",
              "      const div = document.createElement('div');\n",
              "      const label = document.createElement('label');\n",
              "      label.textContent = `Downloading \"${filename}\": `;\n",
              "      div.appendChild(label);\n",
              "      const progress = document.createElement('progress');\n",
              "      progress.max = size;\n",
              "      div.appendChild(progress);\n",
              "      document.body.appendChild(div);\n",
              "\n",
              "      const buffers = [];\n",
              "      let downloaded = 0;\n",
              "\n",
              "      const channel = await google.colab.kernel.comms.open(id);\n",
              "      // Send a message to notify the kernel that we're ready.\n",
              "      channel.send({})\n",
              "\n",
              "      for await (const message of channel.messages) {\n",
              "        // Send a message to notify the kernel that we're ready.\n",
              "        channel.send({})\n",
              "        if (message.buffers) {\n",
              "          for (const buffer of message.buffers) {\n",
              "            buffers.push(buffer);\n",
              "            downloaded += buffer.byteLength;\n",
              "            progress.value = downloaded;\n",
              "          }\n",
              "        }\n",
              "      }\n",
              "      const blob = new Blob(buffers, {type: 'application/binary'});\n",
              "      const a = document.createElement('a');\n",
              "      a.href = window.URL.createObjectURL(blob);\n",
              "      a.download = filename;\n",
              "      div.appendChild(a);\n",
              "      a.click();\n",
              "      div.remove();\n",
              "    }\n",
              "  "
            ],
            "text/plain": [
              "<IPython.core.display.Javascript object>"
            ]
          },
          "metadata": {
            "tags": []
          }
        },
        {
          "output_type": "display_data",
          "data": {
            "application/javascript": [
              "download(\"download_bd0b6537-d70f-4add-b1ab-d67be70a1560\", \"code\", 4096)"
            ],
            "text/plain": [
              "<IPython.core.display.Javascript object>"
            ]
          },
          "metadata": {
            "tags": []
          }
        }
      ]
    }
  ]
}